{
 "cells": [
  {
   "cell_type": "markdown",
   "metadata": {},
   "source": [
    "### KNUE R 기반 텍스트 분석 워크숍 참고자료 - join"
   ]
  },
  {
   "cell_type": "code",
   "execution_count": 10,
   "metadata": {},
   "outputs": [],
   "source": [
    "library(nycflights13)\n",
    "library(tidyverse)\n",
    "library(tidytext)"
   ]
  },
  {
   "cell_type": "code",
   "execution_count": 11,
   "metadata": {},
   "outputs": [],
   "source": [
    "flights -> fl"
   ]
  },
  {
   "cell_type": "code",
   "execution_count": 31,
   "metadata": {},
   "outputs": [],
   "source": [
    "(\n",
    "    flights\n",
    "    %>% select(year, month, day, dep_time, arr_time, carrier, flight, tailnum, origin, dest)\n",
    "#     %>% distinct(carrier)\n",
    "#     %>% head(20)\n",
    ") -> fl"
   ]
  },
  {
   "cell_type": "code",
   "execution_count": 28,
   "metadata": {},
   "outputs": [
    {
     "name": "stderr",
     "output_type": "stream",
     "text": [
      "Parsed with column specification:\n",
      "cols(\n",
      "  carrier = col_character(),\n",
      "  opinion = col_character(),\n",
      "  score = col_double()\n",
      ")\n"
     ]
    }
   ],
   "source": [
    "carrier_list <- read_delim(\"carrier.txt\", delim='\\t')"
   ]
  },
  {
   "cell_type": "code",
   "execution_count": 29,
   "metadata": {},
   "outputs": [
    {
     "data": {
      "text/html": [
       "<table>\n",
       "<thead><tr><th scope=col>carrier</th><th scope=col>opinion</th><th scope=col>score</th></tr></thead>\n",
       "<tbody>\n",
       "\t<tr><td>UA      </td><td>good    </td><td>5       </td></tr>\n",
       "\t<tr><td>AA      </td><td>good    </td><td>4       </td></tr>\n",
       "\t<tr><td>B6      </td><td>good    </td><td>4       </td></tr>\n",
       "\t<tr><td>DL      </td><td>good    </td><td>3       </td></tr>\n",
       "\t<tr><td>EV      </td><td>good    </td><td>5       </td></tr>\n",
       "\t<tr><td>MQ      </td><td>good    </td><td>4       </td></tr>\n",
       "\t<tr><td>US      </td><td>good    </td><td>3       </td></tr>\n",
       "\t<tr><td>WN      </td><td>exellent</td><td>8       </td></tr>\n",
       "\t<tr><td>VX      </td><td>exellent</td><td>9       </td></tr>\n",
       "\t<tr><td>FL      </td><td>exellent</td><td>7       </td></tr>\n",
       "\t<tr><td>AS      </td><td>exellent</td><td>6       </td></tr>\n",
       "\t<tr><td>9E      </td><td>exellent</td><td>8       </td></tr>\n",
       "\t<tr><td>F9      </td><td>bad     </td><td>3       </td></tr>\n",
       "\t<tr><td>HA      </td><td>bad     </td><td>1       </td></tr>\n",
       "\t<tr><td>YV      </td><td>bad     </td><td>2       </td></tr>\n",
       "\t<tr><td>OO      </td><td>bad     </td><td>2       </td></tr>\n",
       "</tbody>\n",
       "</table>\n"
      ],
      "text/latex": [
       "\\begin{tabular}{r|lll}\n",
       " carrier & opinion & score\\\\\n",
       "\\hline\n",
       "\t UA       & good     & 5       \\\\\n",
       "\t AA       & good     & 4       \\\\\n",
       "\t B6       & good     & 4       \\\\\n",
       "\t DL       & good     & 3       \\\\\n",
       "\t EV       & good     & 5       \\\\\n",
       "\t MQ       & good     & 4       \\\\\n",
       "\t US       & good     & 3       \\\\\n",
       "\t WN       & exellent & 8       \\\\\n",
       "\t VX       & exellent & 9       \\\\\n",
       "\t FL       & exellent & 7       \\\\\n",
       "\t AS       & exellent & 6       \\\\\n",
       "\t 9E       & exellent & 8       \\\\\n",
       "\t F9       & bad      & 3       \\\\\n",
       "\t HA       & bad      & 1       \\\\\n",
       "\t YV       & bad      & 2       \\\\\n",
       "\t OO       & bad      & 2       \\\\\n",
       "\\end{tabular}\n"
      ],
      "text/markdown": [
       "\n",
       "| carrier | opinion | score |\n",
       "|---|---|---|\n",
       "| UA       | good     | 5        |\n",
       "| AA       | good     | 4        |\n",
       "| B6       | good     | 4        |\n",
       "| DL       | good     | 3        |\n",
       "| EV       | good     | 5        |\n",
       "| MQ       | good     | 4        |\n",
       "| US       | good     | 3        |\n",
       "| WN       | exellent | 8        |\n",
       "| VX       | exellent | 9        |\n",
       "| FL       | exellent | 7        |\n",
       "| AS       | exellent | 6        |\n",
       "| 9E       | exellent | 8        |\n",
       "| F9       | bad      | 3        |\n",
       "| HA       | bad      | 1        |\n",
       "| YV       | bad      | 2        |\n",
       "| OO       | bad      | 2        |\n",
       "\n"
      ],
      "text/plain": [
       "   carrier opinion  score\n",
       "1  UA      good     5    \n",
       "2  AA      good     4    \n",
       "3  B6      good     4    \n",
       "4  DL      good     3    \n",
       "5  EV      good     5    \n",
       "6  MQ      good     4    \n",
       "7  US      good     3    \n",
       "8  WN      exellent 8    \n",
       "9  VX      exellent 9    \n",
       "10 FL      exellent 7    \n",
       "11 AS      exellent 6    \n",
       "12 9E      exellent 8    \n",
       "13 F9      bad      3    \n",
       "14 HA      bad      1    \n",
       "15 YV      bad      2    \n",
       "16 OO      bad      2    "
      ]
     },
     "metadata": {},
     "output_type": "display_data"
    }
   ],
   "source": [
    "carrier_list"
   ]
  },
  {
   "cell_type": "markdown",
   "metadata": {},
   "source": [
    "* fl과 carrier_list를 join해 보려고 합니다\n",
    "* left_join, inner_join, anti_join 3가지만 실습해보겠습니다. "
   ]
  },
  {
   "cell_type": "code",
   "execution_count": 34,
   "metadata": {},
   "outputs": [
    {
     "data": {
      "text/html": [
       "<table>\n",
       "<thead><tr><th scope=col>carrier</th><th scope=col>opinion</th><th scope=col>score</th></tr></thead>\n",
       "<tbody>\n",
       "\t<tr><td>UA  </td><td>good</td><td>5   </td></tr>\n",
       "\t<tr><td>AA  </td><td>good</td><td>4   </td></tr>\n",
       "\t<tr><td>B6  </td><td>good</td><td>4   </td></tr>\n",
       "\t<tr><td>DL  </td><td>good</td><td>3   </td></tr>\n",
       "\t<tr><td>EV  </td><td>good</td><td>5   </td></tr>\n",
       "</tbody>\n",
       "</table>\n"
      ],
      "text/latex": [
       "\\begin{tabular}{r|lll}\n",
       " carrier & opinion & score\\\\\n",
       "\\hline\n",
       "\t UA   & good & 5   \\\\\n",
       "\t AA   & good & 4   \\\\\n",
       "\t B6   & good & 4   \\\\\n",
       "\t DL   & good & 3   \\\\\n",
       "\t EV   & good & 5   \\\\\n",
       "\\end{tabular}\n"
      ],
      "text/markdown": [
       "\n",
       "| carrier | opinion | score |\n",
       "|---|---|---|\n",
       "| UA   | good | 5    |\n",
       "| AA   | good | 4    |\n",
       "| B6   | good | 4    |\n",
       "| DL   | good | 3    |\n",
       "| EV   | good | 5    |\n",
       "\n"
      ],
      "text/plain": [
       "  carrier opinion score\n",
       "1 UA      good    5    \n",
       "2 AA      good    4    \n",
       "3 B6      good    4    \n",
       "4 DL      good    3    \n",
       "5 EV      good    5    "
      ]
     },
     "metadata": {},
     "output_type": "display_data"
    }
   ],
   "source": [
    "(\n",
    "    carrier_list\n",
    "    %>% head(5)\n",
    ")"
   ]
  },
  {
   "cell_type": "code",
   "execution_count": 35,
   "metadata": {},
   "outputs": [
    {
     "data": {
      "text/html": [
       "<table>\n",
       "<thead><tr><th scope=col>year</th><th scope=col>month</th><th scope=col>day</th><th scope=col>dep_time</th><th scope=col>arr_time</th><th scope=col>carrier</th><th scope=col>flight</th><th scope=col>tailnum</th><th scope=col>origin</th><th scope=col>dest</th></tr></thead>\n",
       "<tbody>\n",
       "\t<tr><td>2013  </td><td>1     </td><td>1     </td><td>517   </td><td> 830  </td><td>UA    </td><td>1545  </td><td>N14228</td><td>EWR   </td><td>IAH   </td></tr>\n",
       "\t<tr><td>2013  </td><td>1     </td><td>1     </td><td>533   </td><td> 850  </td><td>UA    </td><td>1714  </td><td>N24211</td><td>LGA   </td><td>IAH   </td></tr>\n",
       "\t<tr><td>2013  </td><td>1     </td><td>1     </td><td>542   </td><td> 923  </td><td>AA    </td><td>1141  </td><td>N619AA</td><td>JFK   </td><td>MIA   </td></tr>\n",
       "\t<tr><td>2013  </td><td>1     </td><td>1     </td><td>544   </td><td>1004  </td><td>B6    </td><td> 725  </td><td>N804JB</td><td>JFK   </td><td>BQN   </td></tr>\n",
       "\t<tr><td>2013  </td><td>1     </td><td>1     </td><td>554   </td><td> 812  </td><td>DL    </td><td> 461  </td><td>N668DN</td><td>LGA   </td><td>ATL   </td></tr>\n",
       "</tbody>\n",
       "</table>\n"
      ],
      "text/latex": [
       "\\begin{tabular}{r|llllllllll}\n",
       " year & month & day & dep\\_time & arr\\_time & carrier & flight & tailnum & origin & dest\\\\\n",
       "\\hline\n",
       "\t 2013   & 1      & 1      & 517    &  830   & UA     & 1545   & N14228 & EWR    & IAH   \\\\\n",
       "\t 2013   & 1      & 1      & 533    &  850   & UA     & 1714   & N24211 & LGA    & IAH   \\\\\n",
       "\t 2013   & 1      & 1      & 542    &  923   & AA     & 1141   & N619AA & JFK    & MIA   \\\\\n",
       "\t 2013   & 1      & 1      & 544    & 1004   & B6     &  725   & N804JB & JFK    & BQN   \\\\\n",
       "\t 2013   & 1      & 1      & 554    &  812   & DL     &  461   & N668DN & LGA    & ATL   \\\\\n",
       "\\end{tabular}\n"
      ],
      "text/markdown": [
       "\n",
       "| year | month | day | dep_time | arr_time | carrier | flight | tailnum | origin | dest |\n",
       "|---|---|---|---|---|---|---|---|---|---|\n",
       "| 2013   | 1      | 1      | 517    |  830   | UA     | 1545   | N14228 | EWR    | IAH    |\n",
       "| 2013   | 1      | 1      | 533    |  850   | UA     | 1714   | N24211 | LGA    | IAH    |\n",
       "| 2013   | 1      | 1      | 542    |  923   | AA     | 1141   | N619AA | JFK    | MIA    |\n",
       "| 2013   | 1      | 1      | 544    | 1004   | B6     |  725   | N804JB | JFK    | BQN    |\n",
       "| 2013   | 1      | 1      | 554    |  812   | DL     |  461   | N668DN | LGA    | ATL    |\n",
       "\n"
      ],
      "text/plain": [
       "  year month day dep_time arr_time carrier flight tailnum origin dest\n",
       "1 2013 1     1   517       830     UA      1545   N14228  EWR    IAH \n",
       "2 2013 1     1   533       850     UA      1714   N24211  LGA    IAH \n",
       "3 2013 1     1   542       923     AA      1141   N619AA  JFK    MIA \n",
       "4 2013 1     1   544      1004     B6       725   N804JB  JFK    BQN \n",
       "5 2013 1     1   554       812     DL       461   N668DN  LGA    ATL "
      ]
     },
     "metadata": {},
     "output_type": "display_data"
    }
   ],
   "source": [
    "(\n",
    "    fl\n",
    "    %>% head(5)\n",
    ")"
   ]
  },
  {
   "cell_type": "markdown",
   "metadata": {},
   "source": [
    "* carrier opinion 이 \"good\"인 경우만 분석 대상으로 삼고자 합니다. - left_join, inner_join"
   ]
  },
  {
   "cell_type": "code",
   "execution_count": 38,
   "metadata": {
    "scrolled": true
   },
   "outputs": [
    {
     "name": "stderr",
     "output_type": "stream",
     "text": [
      "Joining, by = \"carrier\"\n"
     ]
    },
    {
     "data": {
      "text/html": [
       "<table>\n",
       "<thead><tr><th scope=col>year</th><th scope=col>month</th><th scope=col>day</th><th scope=col>dep_time</th><th scope=col>arr_time</th><th scope=col>carrier</th><th scope=col>flight</th><th scope=col>tailnum</th><th scope=col>origin</th><th scope=col>dest</th><th scope=col>opinion</th><th scope=col>score</th></tr></thead>\n",
       "<tbody>\n",
       "\t<tr><td>2013  </td><td>1     </td><td>1     </td><td>517   </td><td> 830  </td><td>UA    </td><td>1545  </td><td>N14228</td><td>EWR   </td><td>IAH   </td><td>good  </td><td>5     </td></tr>\n",
       "\t<tr><td>2013  </td><td>1     </td><td>1     </td><td>533   </td><td> 850  </td><td>UA    </td><td>1714  </td><td>N24211</td><td>LGA   </td><td>IAH   </td><td>good  </td><td>5     </td></tr>\n",
       "\t<tr><td>2013  </td><td>1     </td><td>1     </td><td>542   </td><td> 923  </td><td>AA    </td><td>1141  </td><td>N619AA</td><td>JFK   </td><td>MIA   </td><td>good  </td><td>4     </td></tr>\n",
       "\t<tr><td>2013  </td><td>1     </td><td>1     </td><td>544   </td><td>1004  </td><td>B6    </td><td> 725  </td><td>N804JB</td><td>JFK   </td><td>BQN   </td><td>good  </td><td>4     </td></tr>\n",
       "\t<tr><td>2013  </td><td>1     </td><td>1     </td><td>554   </td><td> 812  </td><td>DL    </td><td> 461  </td><td>N668DN</td><td>LGA   </td><td>ATL   </td><td>good  </td><td>3     </td></tr>\n",
       "\t<tr><td>2013  </td><td>1     </td><td>1     </td><td>554   </td><td> 740  </td><td>UA    </td><td>1696  </td><td>N39463</td><td>EWR   </td><td>ORD   </td><td>good  </td><td>5     </td></tr>\n",
       "\t<tr><td>2013  </td><td>1     </td><td>1     </td><td>555   </td><td> 913  </td><td>B6    </td><td> 507  </td><td>N516JB</td><td>EWR   </td><td>FLL   </td><td>good  </td><td>4     </td></tr>\n",
       "\t<tr><td>2013  </td><td>1     </td><td>1     </td><td>557   </td><td> 709  </td><td>EV    </td><td>5708  </td><td>N829AS</td><td>LGA   </td><td>IAD   </td><td>good  </td><td>5     </td></tr>\n",
       "\t<tr><td>2013  </td><td>1     </td><td>1     </td><td>557   </td><td> 838  </td><td>B6    </td><td>  79  </td><td>N593JB</td><td>JFK   </td><td>MCO   </td><td>good  </td><td>4     </td></tr>\n",
       "\t<tr><td>2013  </td><td>1     </td><td>1     </td><td>558   </td><td> 753  </td><td>AA    </td><td> 301  </td><td>N3ALAA</td><td>LGA   </td><td>ORD   </td><td>good  </td><td>4     </td></tr>\n",
       "\t<tr><td>2013  </td><td>1     </td><td>1     </td><td>558   </td><td> 849  </td><td>B6    </td><td>  49  </td><td>N793JB</td><td>JFK   </td><td>PBI   </td><td>good  </td><td>4     </td></tr>\n",
       "\t<tr><td>2013  </td><td>1     </td><td>1     </td><td>558   </td><td> 853  </td><td>B6    </td><td>  71  </td><td>N657JB</td><td>JFK   </td><td>TPA   </td><td>good  </td><td>4     </td></tr>\n",
       "\t<tr><td>2013  </td><td>1     </td><td>1     </td><td>558   </td><td> 924  </td><td>UA    </td><td> 194  </td><td>N29129</td><td>JFK   </td><td>LAX   </td><td>good  </td><td>5     </td></tr>\n",
       "\t<tr><td>2013  </td><td>1     </td><td>1     </td><td>558   </td><td> 923  </td><td>UA    </td><td>1124  </td><td>N53441</td><td>EWR   </td><td>SFO   </td><td>good  </td><td>5     </td></tr>\n",
       "\t<tr><td>2013  </td><td>1     </td><td>1     </td><td>559   </td><td> 941  </td><td>AA    </td><td> 707  </td><td>N3DUAA</td><td>LGA   </td><td>DFW   </td><td>good  </td><td>4     </td></tr>\n",
       "\t<tr><td>2013  </td><td>1     </td><td>1     </td><td>559   </td><td> 702  </td><td>B6    </td><td>1806  </td><td>N708JB</td><td>JFK   </td><td>BOS   </td><td>good  </td><td>4     </td></tr>\n",
       "\t<tr><td>2013  </td><td>1     </td><td>1     </td><td>559   </td><td> 854  </td><td>UA    </td><td>1187  </td><td>N76515</td><td>EWR   </td><td>LAS   </td><td>good  </td><td>5     </td></tr>\n",
       "\t<tr><td>2013  </td><td>1     </td><td>1     </td><td>600   </td><td> 851  </td><td>B6    </td><td> 371  </td><td>N595JB</td><td>LGA   </td><td>FLL   </td><td>good  </td><td>4     </td></tr>\n",
       "\t<tr><td>2013  </td><td>1     </td><td>1     </td><td>600   </td><td> 837  </td><td>MQ    </td><td>4650  </td><td>N542MQ</td><td>LGA   </td><td>ATL   </td><td>good  </td><td>4     </td></tr>\n",
       "\t<tr><td>2013  </td><td>1     </td><td>1     </td><td>601   </td><td> 844  </td><td>B6    </td><td> 343  </td><td>N644JB</td><td>EWR   </td><td>PBI   </td><td>good  </td><td>4     </td></tr>\n",
       "\t<tr><td>2013  </td><td>1     </td><td>1     </td><td>602   </td><td> 812  </td><td>DL    </td><td>1919  </td><td>N971DL</td><td>LGA   </td><td>MSP   </td><td>good  </td><td>3     </td></tr>\n",
       "\t<tr><td>2013  </td><td>1     </td><td>1     </td><td>602   </td><td> 821  </td><td>MQ    </td><td>4401  </td><td>N730MQ</td><td>LGA   </td><td>DTW   </td><td>good  </td><td>4     </td></tr>\n",
       "\t<tr><td>2013  </td><td>1     </td><td>1     </td><td>606   </td><td> 858  </td><td>AA    </td><td>1895  </td><td>N633AA</td><td>EWR   </td><td>MIA   </td><td>good  </td><td>4     </td></tr>\n",
       "\t<tr><td>2013  </td><td>1     </td><td>1     </td><td>606   </td><td> 837  </td><td>DL    </td><td>1743  </td><td>N3739P</td><td>JFK   </td><td>ATL   </td><td>good  </td><td>3     </td></tr>\n",
       "\t<tr><td>2013  </td><td>1     </td><td>1     </td><td>607   </td><td> 858  </td><td>UA    </td><td>1077  </td><td>N53442</td><td>EWR   </td><td>MIA   </td><td>good  </td><td>5     </td></tr>\n",
       "\t<tr><td>2013  </td><td>1     </td><td>1     </td><td>608   </td><td> 807  </td><td>MQ    </td><td>3768  </td><td>N9EAMQ</td><td>EWR   </td><td>ORD   </td><td>good  </td><td>4     </td></tr>\n",
       "\t<tr><td>2013  </td><td>1     </td><td>1     </td><td>611   </td><td> 945  </td><td>UA    </td><td> 303  </td><td>N532UA</td><td>JFK   </td><td>SFO   </td><td>good  </td><td>5     </td></tr>\n",
       "\t<tr><td>2013  </td><td>1     </td><td>1     </td><td>613   </td><td> 925  </td><td>B6    </td><td> 135  </td><td>N635JB</td><td>JFK   </td><td>RSW   </td><td>good  </td><td>4     </td></tr>\n",
       "\t<tr><td>2013  </td><td>1     </td><td>1     </td><td>615   </td><td>1039  </td><td>B6    </td><td> 709  </td><td>N794JB</td><td>JFK   </td><td>SJU   </td><td>good  </td><td>4     </td></tr>\n",
       "\t<tr><td>2013  </td><td>1     </td><td>1     </td><td>615   </td><td> 833  </td><td>DL    </td><td> 575  </td><td>N326NB</td><td>EWR   </td><td>ATL   </td><td>good  </td><td>3     </td></tr>\n",
       "\t<tr><td>⋮</td><td>⋮</td><td>⋮</td><td>⋮</td><td>⋮</td><td>⋮</td><td>⋮</td><td>⋮</td><td>⋮</td><td>⋮</td><td>⋮</td><td>⋮</td></tr>\n",
       "\t<tr><td>2013  </td><td>9     </td><td>30    </td><td>2123  </td><td>2223  </td><td>EV    </td><td>5489  </td><td>N712EV</td><td>LGA   </td><td>CHO   </td><td>good  </td><td> 5    </td></tr>\n",
       "\t<tr><td>2013  </td><td>9     </td><td>30    </td><td>2127  </td><td>2314  </td><td>EV    </td><td>3833  </td><td>N16546</td><td>EWR   </td><td>CLT   </td><td>good  </td><td> 5    </td></tr>\n",
       "\t<tr><td>2013  </td><td>9     </td><td>30    </td><td>2128  </td><td>2328  </td><td>B6    </td><td>  97  </td><td>N807JB</td><td>JFK   </td><td>DEN   </td><td>good  </td><td> 4    </td></tr>\n",
       "\t<tr><td>2013  </td><td>9     </td><td>30    </td><td>2129  </td><td>2230  </td><td>EV    </td><td>5048  </td><td>N751EV</td><td>LGA   </td><td>RIC   </td><td>good  </td><td> 5    </td></tr>\n",
       "\t<tr><td>2013  </td><td>9     </td><td>30    </td><td>2131  </td><td>2225  </td><td>MQ    </td><td>3621  </td><td>N807MQ</td><td>JFK   </td><td>DCA   </td><td>good  </td><td> 4    </td></tr>\n",
       "\t<tr><td>2013  </td><td>9     </td><td>30    </td><td>2140  </td><td>  10  </td><td>AA    </td><td> 185  </td><td>N335AA</td><td>JFK   </td><td>LAX   </td><td>good  </td><td> 4    </td></tr>\n",
       "\t<tr><td>2013  </td><td>9     </td><td>30    </td><td>2142  </td><td>2250  </td><td>EV    </td><td>4509  </td><td>N12957</td><td>EWR   </td><td>PWM   </td><td>good  </td><td> 5    </td></tr>\n",
       "\t<tr><td>2013  </td><td>9     </td><td>30    </td><td>2145  </td><td> 115  </td><td>B6    </td><td>1103  </td><td>N633JB</td><td>JFK   </td><td>SJU   </td><td>good  </td><td> 4    </td></tr>\n",
       "\t<tr><td>2013  </td><td>9     </td><td>30    </td><td>2147  </td><td>  30  </td><td>B6    </td><td>1371  </td><td>N627JB</td><td>LGA   </td><td>FLL   </td><td>good  </td><td> 4    </td></tr>\n",
       "\t<tr><td>2013  </td><td>9     </td><td>30    </td><td>2149  </td><td>2245  </td><td>UA    </td><td> 523  </td><td>N813UA</td><td>EWR   </td><td>BOS   </td><td>good  </td><td> 5    </td></tr>\n",
       "\t<tr><td>2013  </td><td>9     </td><td>30    </td><td>2150  </td><td>2250  </td><td>EV    </td><td>3842  </td><td>N10575</td><td>EWR   </td><td>MHT   </td><td>good  </td><td> 5    </td></tr>\n",
       "\t<tr><td>2013  </td><td>9     </td><td>30    </td><td>2159  </td><td>2344  </td><td>9E    </td><td>3320  </td><td>N906XJ</td><td>JFK   </td><td>BUF   </td><td>NA    </td><td>NA    </td></tr>\n",
       "\t<tr><td>2013  </td><td>9     </td><td>30    </td><td>2203  </td><td>2339  </td><td>EV    </td><td>5311  </td><td>N722EV</td><td>LGA   </td><td>BGR   </td><td>good  </td><td> 5    </td></tr>\n",
       "\t<tr><td>2013  </td><td>9     </td><td>30    </td><td>2207  </td><td>2257  </td><td>MQ    </td><td>3660  </td><td>N532MQ</td><td>LGA   </td><td>BNA   </td><td>good  </td><td> 4    </td></tr>\n",
       "\t<tr><td>2013  </td><td>9     </td><td>30    </td><td>2211  </td><td>2339  </td><td>EV    </td><td>4672  </td><td>N12145</td><td>EWR   </td><td>STL   </td><td>good  </td><td> 5    </td></tr>\n",
       "\t<tr><td>2013  </td><td>9     </td><td>30    </td><td>2231  </td><td>2335  </td><td>B6    </td><td> 108  </td><td>N193JB</td><td>JFK   </td><td>PWM   </td><td>good  </td><td> 4    </td></tr>\n",
       "\t<tr><td>2013  </td><td>9     </td><td>30    </td><td>2233  </td><td> 112  </td><td>UA    </td><td> 471  </td><td>N578UA</td><td>EWR   </td><td>SFO   </td><td>good  </td><td> 5    </td></tr>\n",
       "\t<tr><td>2013  </td><td>9     </td><td>30    </td><td>2235  </td><td>  59  </td><td>B6    </td><td>1083  </td><td>N804JB</td><td>JFK   </td><td>MCO   </td><td>good  </td><td> 4    </td></tr>\n",
       "\t<tr><td>2013  </td><td>9     </td><td>30    </td><td>2237  </td><td>2345  </td><td>B6    </td><td> 234  </td><td>N318JB</td><td>JFK   </td><td>BTV   </td><td>good  </td><td> 4    </td></tr>\n",
       "\t<tr><td>2013  </td><td>9     </td><td>30    </td><td>2240  </td><td>2334  </td><td>B6    </td><td>1816  </td><td>N354JB</td><td>JFK   </td><td>SYR   </td><td>good  </td><td> 4    </td></tr>\n",
       "\t<tr><td>2013  </td><td>9     </td><td>30    </td><td>2240  </td><td>2347  </td><td>B6    </td><td>2002  </td><td>N281JB</td><td>JFK   </td><td>BUF   </td><td>good  </td><td> 4    </td></tr>\n",
       "\t<tr><td>2013  </td><td>9     </td><td>30    </td><td>2241  </td><td>2345  </td><td>B6    </td><td> 486  </td><td>N346JB</td><td>JFK   </td><td>ROC   </td><td>good  </td><td> 4    </td></tr>\n",
       "\t<tr><td>2013  </td><td>9     </td><td>30    </td><td>2307  </td><td>2359  </td><td>B6    </td><td> 718  </td><td>N565JB</td><td>JFK   </td><td>BOS   </td><td>good  </td><td> 4    </td></tr>\n",
       "\t<tr><td>2013  </td><td>9     </td><td>30    </td><td>2349  </td><td> 325  </td><td>B6    </td><td> 745  </td><td>N516JB</td><td>JFK   </td><td>PSE   </td><td>good  </td><td> 4    </td></tr>\n",
       "\t<tr><td>2013  </td><td>9     </td><td>30    </td><td>  NA  </td><td>  NA  </td><td>EV    </td><td>5274  </td><td>N740EV</td><td>LGA   </td><td>BNA   </td><td>good  </td><td> 5    </td></tr>\n",
       "\t<tr><td>2013  </td><td>9     </td><td>30    </td><td>  NA  </td><td>  NA  </td><td>9E    </td><td>3393  </td><td>NA    </td><td>JFK   </td><td>DCA   </td><td>NA    </td><td>NA    </td></tr>\n",
       "\t<tr><td>2013  </td><td>9     </td><td>30    </td><td>  NA  </td><td>  NA  </td><td>9E    </td><td>3525  </td><td>NA    </td><td>LGA   </td><td>SYR   </td><td>NA    </td><td>NA    </td></tr>\n",
       "\t<tr><td>2013  </td><td>9     </td><td>30    </td><td>  NA  </td><td>  NA  </td><td>MQ    </td><td>3461  </td><td>N535MQ</td><td>LGA   </td><td>BNA   </td><td>good  </td><td> 4    </td></tr>\n",
       "\t<tr><td>2013  </td><td>9     </td><td>30    </td><td>  NA  </td><td>  NA  </td><td>MQ    </td><td>3572  </td><td>N511MQ</td><td>LGA   </td><td>CLE   </td><td>good  </td><td> 4    </td></tr>\n",
       "\t<tr><td>2013  </td><td>9     </td><td>30    </td><td>  NA  </td><td>  NA  </td><td>MQ    </td><td>3531  </td><td>N839MQ</td><td>LGA   </td><td>RDU   </td><td>good  </td><td> 4    </td></tr>\n",
       "</tbody>\n",
       "</table>\n"
      ],
      "text/latex": [
       "\\begin{tabular}{r|llllllllllll}\n",
       " year & month & day & dep\\_time & arr\\_time & carrier & flight & tailnum & origin & dest & opinion & score\\\\\n",
       "\\hline\n",
       "\t 2013   & 1      & 1      & 517    &  830   & UA     & 1545   & N14228 & EWR    & IAH    & good   & 5     \\\\\n",
       "\t 2013   & 1      & 1      & 533    &  850   & UA     & 1714   & N24211 & LGA    & IAH    & good   & 5     \\\\\n",
       "\t 2013   & 1      & 1      & 542    &  923   & AA     & 1141   & N619AA & JFK    & MIA    & good   & 4     \\\\\n",
       "\t 2013   & 1      & 1      & 544    & 1004   & B6     &  725   & N804JB & JFK    & BQN    & good   & 4     \\\\\n",
       "\t 2013   & 1      & 1      & 554    &  812   & DL     &  461   & N668DN & LGA    & ATL    & good   & 3     \\\\\n",
       "\t 2013   & 1      & 1      & 554    &  740   & UA     & 1696   & N39463 & EWR    & ORD    & good   & 5     \\\\\n",
       "\t 2013   & 1      & 1      & 555    &  913   & B6     &  507   & N516JB & EWR    & FLL    & good   & 4     \\\\\n",
       "\t 2013   & 1      & 1      & 557    &  709   & EV     & 5708   & N829AS & LGA    & IAD    & good   & 5     \\\\\n",
       "\t 2013   & 1      & 1      & 557    &  838   & B6     &   79   & N593JB & JFK    & MCO    & good   & 4     \\\\\n",
       "\t 2013   & 1      & 1      & 558    &  753   & AA     &  301   & N3ALAA & LGA    & ORD    & good   & 4     \\\\\n",
       "\t 2013   & 1      & 1      & 558    &  849   & B6     &   49   & N793JB & JFK    & PBI    & good   & 4     \\\\\n",
       "\t 2013   & 1      & 1      & 558    &  853   & B6     &   71   & N657JB & JFK    & TPA    & good   & 4     \\\\\n",
       "\t 2013   & 1      & 1      & 558    &  924   & UA     &  194   & N29129 & JFK    & LAX    & good   & 5     \\\\\n",
       "\t 2013   & 1      & 1      & 558    &  923   & UA     & 1124   & N53441 & EWR    & SFO    & good   & 5     \\\\\n",
       "\t 2013   & 1      & 1      & 559    &  941   & AA     &  707   & N3DUAA & LGA    & DFW    & good   & 4     \\\\\n",
       "\t 2013   & 1      & 1      & 559    &  702   & B6     & 1806   & N708JB & JFK    & BOS    & good   & 4     \\\\\n",
       "\t 2013   & 1      & 1      & 559    &  854   & UA     & 1187   & N76515 & EWR    & LAS    & good   & 5     \\\\\n",
       "\t 2013   & 1      & 1      & 600    &  851   & B6     &  371   & N595JB & LGA    & FLL    & good   & 4     \\\\\n",
       "\t 2013   & 1      & 1      & 600    &  837   & MQ     & 4650   & N542MQ & LGA    & ATL    & good   & 4     \\\\\n",
       "\t 2013   & 1      & 1      & 601    &  844   & B6     &  343   & N644JB & EWR    & PBI    & good   & 4     \\\\\n",
       "\t 2013   & 1      & 1      & 602    &  812   & DL     & 1919   & N971DL & LGA    & MSP    & good   & 3     \\\\\n",
       "\t 2013   & 1      & 1      & 602    &  821   & MQ     & 4401   & N730MQ & LGA    & DTW    & good   & 4     \\\\\n",
       "\t 2013   & 1      & 1      & 606    &  858   & AA     & 1895   & N633AA & EWR    & MIA    & good   & 4     \\\\\n",
       "\t 2013   & 1      & 1      & 606    &  837   & DL     & 1743   & N3739P & JFK    & ATL    & good   & 3     \\\\\n",
       "\t 2013   & 1      & 1      & 607    &  858   & UA     & 1077   & N53442 & EWR    & MIA    & good   & 5     \\\\\n",
       "\t 2013   & 1      & 1      & 608    &  807   & MQ     & 3768   & N9EAMQ & EWR    & ORD    & good   & 4     \\\\\n",
       "\t 2013   & 1      & 1      & 611    &  945   & UA     &  303   & N532UA & JFK    & SFO    & good   & 5     \\\\\n",
       "\t 2013   & 1      & 1      & 613    &  925   & B6     &  135   & N635JB & JFK    & RSW    & good   & 4     \\\\\n",
       "\t 2013   & 1      & 1      & 615    & 1039   & B6     &  709   & N794JB & JFK    & SJU    & good   & 4     \\\\\n",
       "\t 2013   & 1      & 1      & 615    &  833   & DL     &  575   & N326NB & EWR    & ATL    & good   & 3     \\\\\n",
       "\t ⋮ & ⋮ & ⋮ & ⋮ & ⋮ & ⋮ & ⋮ & ⋮ & ⋮ & ⋮ & ⋮ & ⋮\\\\\n",
       "\t 2013   & 9      & 30     & 2123   & 2223   & EV     & 5489   & N712EV & LGA    & CHO    & good   &  5    \\\\\n",
       "\t 2013   & 9      & 30     & 2127   & 2314   & EV     & 3833   & N16546 & EWR    & CLT    & good   &  5    \\\\\n",
       "\t 2013   & 9      & 30     & 2128   & 2328   & B6     &   97   & N807JB & JFK    & DEN    & good   &  4    \\\\\n",
       "\t 2013   & 9      & 30     & 2129   & 2230   & EV     & 5048   & N751EV & LGA    & RIC    & good   &  5    \\\\\n",
       "\t 2013   & 9      & 30     & 2131   & 2225   & MQ     & 3621   & N807MQ & JFK    & DCA    & good   &  4    \\\\\n",
       "\t 2013   & 9      & 30     & 2140   &   10   & AA     &  185   & N335AA & JFK    & LAX    & good   &  4    \\\\\n",
       "\t 2013   & 9      & 30     & 2142   & 2250   & EV     & 4509   & N12957 & EWR    & PWM    & good   &  5    \\\\\n",
       "\t 2013   & 9      & 30     & 2145   &  115   & B6     & 1103   & N633JB & JFK    & SJU    & good   &  4    \\\\\n",
       "\t 2013   & 9      & 30     & 2147   &   30   & B6     & 1371   & N627JB & LGA    & FLL    & good   &  4    \\\\\n",
       "\t 2013   & 9      & 30     & 2149   & 2245   & UA     &  523   & N813UA & EWR    & BOS    & good   &  5    \\\\\n",
       "\t 2013   & 9      & 30     & 2150   & 2250   & EV     & 3842   & N10575 & EWR    & MHT    & good   &  5    \\\\\n",
       "\t 2013   & 9      & 30     & 2159   & 2344   & 9E     & 3320   & N906XJ & JFK    & BUF    & NA     & NA    \\\\\n",
       "\t 2013   & 9      & 30     & 2203   & 2339   & EV     & 5311   & N722EV & LGA    & BGR    & good   &  5    \\\\\n",
       "\t 2013   & 9      & 30     & 2207   & 2257   & MQ     & 3660   & N532MQ & LGA    & BNA    & good   &  4    \\\\\n",
       "\t 2013   & 9      & 30     & 2211   & 2339   & EV     & 4672   & N12145 & EWR    & STL    & good   &  5    \\\\\n",
       "\t 2013   & 9      & 30     & 2231   & 2335   & B6     &  108   & N193JB & JFK    & PWM    & good   &  4    \\\\\n",
       "\t 2013   & 9      & 30     & 2233   &  112   & UA     &  471   & N578UA & EWR    & SFO    & good   &  5    \\\\\n",
       "\t 2013   & 9      & 30     & 2235   &   59   & B6     & 1083   & N804JB & JFK    & MCO    & good   &  4    \\\\\n",
       "\t 2013   & 9      & 30     & 2237   & 2345   & B6     &  234   & N318JB & JFK    & BTV    & good   &  4    \\\\\n",
       "\t 2013   & 9      & 30     & 2240   & 2334   & B6     & 1816   & N354JB & JFK    & SYR    & good   &  4    \\\\\n",
       "\t 2013   & 9      & 30     & 2240   & 2347   & B6     & 2002   & N281JB & JFK    & BUF    & good   &  4    \\\\\n",
       "\t 2013   & 9      & 30     & 2241   & 2345   & B6     &  486   & N346JB & JFK    & ROC    & good   &  4    \\\\\n",
       "\t 2013   & 9      & 30     & 2307   & 2359   & B6     &  718   & N565JB & JFK    & BOS    & good   &  4    \\\\\n",
       "\t 2013   & 9      & 30     & 2349   &  325   & B6     &  745   & N516JB & JFK    & PSE    & good   &  4    \\\\\n",
       "\t 2013   & 9      & 30     &   NA   &   NA   & EV     & 5274   & N740EV & LGA    & BNA    & good   &  5    \\\\\n",
       "\t 2013   & 9      & 30     &   NA   &   NA   & 9E     & 3393   & NA     & JFK    & DCA    & NA     & NA    \\\\\n",
       "\t 2013   & 9      & 30     &   NA   &   NA   & 9E     & 3525   & NA     & LGA    & SYR    & NA     & NA    \\\\\n",
       "\t 2013   & 9      & 30     &   NA   &   NA   & MQ     & 3461   & N535MQ & LGA    & BNA    & good   &  4    \\\\\n",
       "\t 2013   & 9      & 30     &   NA   &   NA   & MQ     & 3572   & N511MQ & LGA    & CLE    & good   &  4    \\\\\n",
       "\t 2013   & 9      & 30     &   NA   &   NA   & MQ     & 3531   & N839MQ & LGA    & RDU    & good   &  4    \\\\\n",
       "\\end{tabular}\n"
      ],
      "text/markdown": [
       "\n",
       "| year | month | day | dep_time | arr_time | carrier | flight | tailnum | origin | dest | opinion | score |\n",
       "|---|---|---|---|---|---|---|---|---|---|---|---|\n",
       "| 2013   | 1      | 1      | 517    |  830   | UA     | 1545   | N14228 | EWR    | IAH    | good   | 5      |\n",
       "| 2013   | 1      | 1      | 533    |  850   | UA     | 1714   | N24211 | LGA    | IAH    | good   | 5      |\n",
       "| 2013   | 1      | 1      | 542    |  923   | AA     | 1141   | N619AA | JFK    | MIA    | good   | 4      |\n",
       "| 2013   | 1      | 1      | 544    | 1004   | B6     |  725   | N804JB | JFK    | BQN    | good   | 4      |\n",
       "| 2013   | 1      | 1      | 554    |  812   | DL     |  461   | N668DN | LGA    | ATL    | good   | 3      |\n",
       "| 2013   | 1      | 1      | 554    |  740   | UA     | 1696   | N39463 | EWR    | ORD    | good   | 5      |\n",
       "| 2013   | 1      | 1      | 555    |  913   | B6     |  507   | N516JB | EWR    | FLL    | good   | 4      |\n",
       "| 2013   | 1      | 1      | 557    |  709   | EV     | 5708   | N829AS | LGA    | IAD    | good   | 5      |\n",
       "| 2013   | 1      | 1      | 557    |  838   | B6     |   79   | N593JB | JFK    | MCO    | good   | 4      |\n",
       "| 2013   | 1      | 1      | 558    |  753   | AA     |  301   | N3ALAA | LGA    | ORD    | good   | 4      |\n",
       "| 2013   | 1      | 1      | 558    |  849   | B6     |   49   | N793JB | JFK    | PBI    | good   | 4      |\n",
       "| 2013   | 1      | 1      | 558    |  853   | B6     |   71   | N657JB | JFK    | TPA    | good   | 4      |\n",
       "| 2013   | 1      | 1      | 558    |  924   | UA     |  194   | N29129 | JFK    | LAX    | good   | 5      |\n",
       "| 2013   | 1      | 1      | 558    |  923   | UA     | 1124   | N53441 | EWR    | SFO    | good   | 5      |\n",
       "| 2013   | 1      | 1      | 559    |  941   | AA     |  707   | N3DUAA | LGA    | DFW    | good   | 4      |\n",
       "| 2013   | 1      | 1      | 559    |  702   | B6     | 1806   | N708JB | JFK    | BOS    | good   | 4      |\n",
       "| 2013   | 1      | 1      | 559    |  854   | UA     | 1187   | N76515 | EWR    | LAS    | good   | 5      |\n",
       "| 2013   | 1      | 1      | 600    |  851   | B6     |  371   | N595JB | LGA    | FLL    | good   | 4      |\n",
       "| 2013   | 1      | 1      | 600    |  837   | MQ     | 4650   | N542MQ | LGA    | ATL    | good   | 4      |\n",
       "| 2013   | 1      | 1      | 601    |  844   | B6     |  343   | N644JB | EWR    | PBI    | good   | 4      |\n",
       "| 2013   | 1      | 1      | 602    |  812   | DL     | 1919   | N971DL | LGA    | MSP    | good   | 3      |\n",
       "| 2013   | 1      | 1      | 602    |  821   | MQ     | 4401   | N730MQ | LGA    | DTW    | good   | 4      |\n",
       "| 2013   | 1      | 1      | 606    |  858   | AA     | 1895   | N633AA | EWR    | MIA    | good   | 4      |\n",
       "| 2013   | 1      | 1      | 606    |  837   | DL     | 1743   | N3739P | JFK    | ATL    | good   | 3      |\n",
       "| 2013   | 1      | 1      | 607    |  858   | UA     | 1077   | N53442 | EWR    | MIA    | good   | 5      |\n",
       "| 2013   | 1      | 1      | 608    |  807   | MQ     | 3768   | N9EAMQ | EWR    | ORD    | good   | 4      |\n",
       "| 2013   | 1      | 1      | 611    |  945   | UA     |  303   | N532UA | JFK    | SFO    | good   | 5      |\n",
       "| 2013   | 1      | 1      | 613    |  925   | B6     |  135   | N635JB | JFK    | RSW    | good   | 4      |\n",
       "| 2013   | 1      | 1      | 615    | 1039   | B6     |  709   | N794JB | JFK    | SJU    | good   | 4      |\n",
       "| 2013   | 1      | 1      | 615    |  833   | DL     |  575   | N326NB | EWR    | ATL    | good   | 3      |\n",
       "| ⋮ | ⋮ | ⋮ | ⋮ | ⋮ | ⋮ | ⋮ | ⋮ | ⋮ | ⋮ | ⋮ | ⋮ |\n",
       "| 2013   | 9      | 30     | 2123   | 2223   | EV     | 5489   | N712EV | LGA    | CHO    | good   |  5     |\n",
       "| 2013   | 9      | 30     | 2127   | 2314   | EV     | 3833   | N16546 | EWR    | CLT    | good   |  5     |\n",
       "| 2013   | 9      | 30     | 2128   | 2328   | B6     |   97   | N807JB | JFK    | DEN    | good   |  4     |\n",
       "| 2013   | 9      | 30     | 2129   | 2230   | EV     | 5048   | N751EV | LGA    | RIC    | good   |  5     |\n",
       "| 2013   | 9      | 30     | 2131   | 2225   | MQ     | 3621   | N807MQ | JFK    | DCA    | good   |  4     |\n",
       "| 2013   | 9      | 30     | 2140   |   10   | AA     |  185   | N335AA | JFK    | LAX    | good   |  4     |\n",
       "| 2013   | 9      | 30     | 2142   | 2250   | EV     | 4509   | N12957 | EWR    | PWM    | good   |  5     |\n",
       "| 2013   | 9      | 30     | 2145   |  115   | B6     | 1103   | N633JB | JFK    | SJU    | good   |  4     |\n",
       "| 2013   | 9      | 30     | 2147   |   30   | B6     | 1371   | N627JB | LGA    | FLL    | good   |  4     |\n",
       "| 2013   | 9      | 30     | 2149   | 2245   | UA     |  523   | N813UA | EWR    | BOS    | good   |  5     |\n",
       "| 2013   | 9      | 30     | 2150   | 2250   | EV     | 3842   | N10575 | EWR    | MHT    | good   |  5     |\n",
       "| 2013   | 9      | 30     | 2159   | 2344   | 9E     | 3320   | N906XJ | JFK    | BUF    | NA     | NA     |\n",
       "| 2013   | 9      | 30     | 2203   | 2339   | EV     | 5311   | N722EV | LGA    | BGR    | good   |  5     |\n",
       "| 2013   | 9      | 30     | 2207   | 2257   | MQ     | 3660   | N532MQ | LGA    | BNA    | good   |  4     |\n",
       "| 2013   | 9      | 30     | 2211   | 2339   | EV     | 4672   | N12145 | EWR    | STL    | good   |  5     |\n",
       "| 2013   | 9      | 30     | 2231   | 2335   | B6     |  108   | N193JB | JFK    | PWM    | good   |  4     |\n",
       "| 2013   | 9      | 30     | 2233   |  112   | UA     |  471   | N578UA | EWR    | SFO    | good   |  5     |\n",
       "| 2013   | 9      | 30     | 2235   |   59   | B6     | 1083   | N804JB | JFK    | MCO    | good   |  4     |\n",
       "| 2013   | 9      | 30     | 2237   | 2345   | B6     |  234   | N318JB | JFK    | BTV    | good   |  4     |\n",
       "| 2013   | 9      | 30     | 2240   | 2334   | B6     | 1816   | N354JB | JFK    | SYR    | good   |  4     |\n",
       "| 2013   | 9      | 30     | 2240   | 2347   | B6     | 2002   | N281JB | JFK    | BUF    | good   |  4     |\n",
       "| 2013   | 9      | 30     | 2241   | 2345   | B6     |  486   | N346JB | JFK    | ROC    | good   |  4     |\n",
       "| 2013   | 9      | 30     | 2307   | 2359   | B6     |  718   | N565JB | JFK    | BOS    | good   |  4     |\n",
       "| 2013   | 9      | 30     | 2349   |  325   | B6     |  745   | N516JB | JFK    | PSE    | good   |  4     |\n",
       "| 2013   | 9      | 30     |   NA   |   NA   | EV     | 5274   | N740EV | LGA    | BNA    | good   |  5     |\n",
       "| 2013   | 9      | 30     |   NA   |   NA   | 9E     | 3393   | NA     | JFK    | DCA    | NA     | NA     |\n",
       "| 2013   | 9      | 30     |   NA   |   NA   | 9E     | 3525   | NA     | LGA    | SYR    | NA     | NA     |\n",
       "| 2013   | 9      | 30     |   NA   |   NA   | MQ     | 3461   | N535MQ | LGA    | BNA    | good   |  4     |\n",
       "| 2013   | 9      | 30     |   NA   |   NA   | MQ     | 3572   | N511MQ | LGA    | CLE    | good   |  4     |\n",
       "| 2013   | 9      | 30     |   NA   |   NA   | MQ     | 3531   | N839MQ | LGA    | RDU    | good   |  4     |\n",
       "\n"
      ],
      "text/plain": [
       "       year month day dep_time arr_time carrier flight tailnum origin dest\n",
       "1      2013 1     1   517       830     UA      1545   N14228  EWR    IAH \n",
       "2      2013 1     1   533       850     UA      1714   N24211  LGA    IAH \n",
       "3      2013 1     1   542       923     AA      1141   N619AA  JFK    MIA \n",
       "4      2013 1     1   544      1004     B6       725   N804JB  JFK    BQN \n",
       "5      2013 1     1   554       812     DL       461   N668DN  LGA    ATL \n",
       "6      2013 1     1   554       740     UA      1696   N39463  EWR    ORD \n",
       "7      2013 1     1   555       913     B6       507   N516JB  EWR    FLL \n",
       "8      2013 1     1   557       709     EV      5708   N829AS  LGA    IAD \n",
       "9      2013 1     1   557       838     B6        79   N593JB  JFK    MCO \n",
       "10     2013 1     1   558       753     AA       301   N3ALAA  LGA    ORD \n",
       "11     2013 1     1   558       849     B6        49   N793JB  JFK    PBI \n",
       "12     2013 1     1   558       853     B6        71   N657JB  JFK    TPA \n",
       "13     2013 1     1   558       924     UA       194   N29129  JFK    LAX \n",
       "14     2013 1     1   558       923     UA      1124   N53441  EWR    SFO \n",
       "15     2013 1     1   559       941     AA       707   N3DUAA  LGA    DFW \n",
       "16     2013 1     1   559       702     B6      1806   N708JB  JFK    BOS \n",
       "17     2013 1     1   559       854     UA      1187   N76515  EWR    LAS \n",
       "18     2013 1     1   600       851     B6       371   N595JB  LGA    FLL \n",
       "19     2013 1     1   600       837     MQ      4650   N542MQ  LGA    ATL \n",
       "20     2013 1     1   601       844     B6       343   N644JB  EWR    PBI \n",
       "21     2013 1     1   602       812     DL      1919   N971DL  LGA    MSP \n",
       "22     2013 1     1   602       821     MQ      4401   N730MQ  LGA    DTW \n",
       "23     2013 1     1   606       858     AA      1895   N633AA  EWR    MIA \n",
       "24     2013 1     1   606       837     DL      1743   N3739P  JFK    ATL \n",
       "25     2013 1     1   607       858     UA      1077   N53442  EWR    MIA \n",
       "26     2013 1     1   608       807     MQ      3768   N9EAMQ  EWR    ORD \n",
       "27     2013 1     1   611       945     UA       303   N532UA  JFK    SFO \n",
       "28     2013 1     1   613       925     B6       135   N635JB  JFK    RSW \n",
       "29     2013 1     1   615      1039     B6       709   N794JB  JFK    SJU \n",
       "30     2013 1     1   615       833     DL       575   N326NB  EWR    ATL \n",
       "⋮      ⋮    ⋮     ⋮   ⋮        ⋮        ⋮       ⋮      ⋮       ⋮      ⋮   \n",
       "336747 2013 9     30  2123     2223     EV      5489   N712EV  LGA    CHO \n",
       "336748 2013 9     30  2127     2314     EV      3833   N16546  EWR    CLT \n",
       "336749 2013 9     30  2128     2328     B6        97   N807JB  JFK    DEN \n",
       "336750 2013 9     30  2129     2230     EV      5048   N751EV  LGA    RIC \n",
       "336751 2013 9     30  2131     2225     MQ      3621   N807MQ  JFK    DCA \n",
       "336752 2013 9     30  2140       10     AA       185   N335AA  JFK    LAX \n",
       "336753 2013 9     30  2142     2250     EV      4509   N12957  EWR    PWM \n",
       "336754 2013 9     30  2145      115     B6      1103   N633JB  JFK    SJU \n",
       "336755 2013 9     30  2147       30     B6      1371   N627JB  LGA    FLL \n",
       "336756 2013 9     30  2149     2245     UA       523   N813UA  EWR    BOS \n",
       "336757 2013 9     30  2150     2250     EV      3842   N10575  EWR    MHT \n",
       "336758 2013 9     30  2159     2344     9E      3320   N906XJ  JFK    BUF \n",
       "336759 2013 9     30  2203     2339     EV      5311   N722EV  LGA    BGR \n",
       "336760 2013 9     30  2207     2257     MQ      3660   N532MQ  LGA    BNA \n",
       "336761 2013 9     30  2211     2339     EV      4672   N12145  EWR    STL \n",
       "336762 2013 9     30  2231     2335     B6       108   N193JB  JFK    PWM \n",
       "336763 2013 9     30  2233      112     UA       471   N578UA  EWR    SFO \n",
       "336764 2013 9     30  2235       59     B6      1083   N804JB  JFK    MCO \n",
       "336765 2013 9     30  2237     2345     B6       234   N318JB  JFK    BTV \n",
       "336766 2013 9     30  2240     2334     B6      1816   N354JB  JFK    SYR \n",
       "336767 2013 9     30  2240     2347     B6      2002   N281JB  JFK    BUF \n",
       "336768 2013 9     30  2241     2345     B6       486   N346JB  JFK    ROC \n",
       "336769 2013 9     30  2307     2359     B6       718   N565JB  JFK    BOS \n",
       "336770 2013 9     30  2349      325     B6       745   N516JB  JFK    PSE \n",
       "336771 2013 9     30    NA       NA     EV      5274   N740EV  LGA    BNA \n",
       "336772 2013 9     30    NA       NA     9E      3393   NA      JFK    DCA \n",
       "336773 2013 9     30    NA       NA     9E      3525   NA      LGA    SYR \n",
       "336774 2013 9     30    NA       NA     MQ      3461   N535MQ  LGA    BNA \n",
       "336775 2013 9     30    NA       NA     MQ      3572   N511MQ  LGA    CLE \n",
       "336776 2013 9     30    NA       NA     MQ      3531   N839MQ  LGA    RDU \n",
       "       opinion score\n",
       "1      good    5    \n",
       "2      good    5    \n",
       "3      good    4    \n",
       "4      good    4    \n",
       "5      good    3    \n",
       "6      good    5    \n",
       "7      good    4    \n",
       "8      good    5    \n",
       "9      good    4    \n",
       "10     good    4    \n",
       "11     good    4    \n",
       "12     good    4    \n",
       "13     good    5    \n",
       "14     good    5    \n",
       "15     good    4    \n",
       "16     good    4    \n",
       "17     good    5    \n",
       "18     good    4    \n",
       "19     good    4    \n",
       "20     good    4    \n",
       "21     good    3    \n",
       "22     good    4    \n",
       "23     good    4    \n",
       "24     good    3    \n",
       "25     good    5    \n",
       "26     good    4    \n",
       "27     good    5    \n",
       "28     good    4    \n",
       "29     good    4    \n",
       "30     good    3    \n",
       "⋮      ⋮       ⋮    \n",
       "336747 good     5   \n",
       "336748 good     5   \n",
       "336749 good     4   \n",
       "336750 good     5   \n",
       "336751 good     4   \n",
       "336752 good     4   \n",
       "336753 good     5   \n",
       "336754 good     4   \n",
       "336755 good     4   \n",
       "336756 good     5   \n",
       "336757 good     5   \n",
       "336758 NA      NA   \n",
       "336759 good     5   \n",
       "336760 good     4   \n",
       "336761 good     5   \n",
       "336762 good     4   \n",
       "336763 good     5   \n",
       "336764 good     4   \n",
       "336765 good     4   \n",
       "336766 good     4   \n",
       "336767 good     4   \n",
       "336768 good     4   \n",
       "336769 good     4   \n",
       "336770 good     4   \n",
       "336771 good     5   \n",
       "336772 NA      NA   \n",
       "336773 NA      NA   \n",
       "336774 good     4   \n",
       "336775 good     4   \n",
       "336776 good     4   "
      ]
     },
     "metadata": {},
     "output_type": "display_data"
    }
   ],
   "source": [
    "(\n",
    "    fl\n",
    "    %>% left_join(carrier_list %>% filter(opinion == \"good\"))\n",
    ")\n"
   ]
  },
  {
   "cell_type": "markdown",
   "metadata": {},
   "source": [
    "* bad 인 경우를 제외하고 합니다. - anti_join"
   ]
  },
  {
   "cell_type": "code",
   "execution_count": 40,
   "metadata": {
    "scrolled": true
   },
   "outputs": [
    {
     "name": "stderr",
     "output_type": "stream",
     "text": [
      "Joining, by = \"carrier\"\n"
     ]
    },
    {
     "data": {
      "text/html": [
       "<table>\n",
       "<thead><tr><th scope=col>year</th><th scope=col>month</th><th scope=col>day</th><th scope=col>dep_time</th><th scope=col>arr_time</th><th scope=col>carrier</th><th scope=col>flight</th><th scope=col>tailnum</th><th scope=col>origin</th><th scope=col>dest</th></tr></thead>\n",
       "<tbody>\n",
       "</tbody>\n",
       "</table>\n"
      ],
      "text/latex": [
       "\\begin{tabular}{r|llllllllll}\n",
       " year & month & day & dep\\_time & arr\\_time & carrier & flight & tailnum & origin & dest\\\\\n",
       "\\hline\n",
       "\\end{tabular}\n"
      ],
      "text/markdown": [
       "\n",
       "| year | month | day | dep_time | arr_time | carrier | flight | tailnum | origin | dest |\n",
       "|---|---|---|---|---|---|---|---|---|---|\n",
       "\n"
      ],
      "text/plain": [
       "     year month day dep_time arr_time carrier flight tailnum origin dest"
      ]
     },
     "metadata": {},
     "output_type": "display_data"
    }
   ],
   "source": [
    "(\n",
    "    fl\n",
    "    %>% anti_join(carrier_list %>% filter(opinion == \"bad\"))\n",
    "    %>% filter(carrier==\"HA\")\n",
    ")\n"
   ]
  }
 ],
 "metadata": {
  "kernelspec": {
   "display_name": "R",
   "language": "R",
   "name": "ir"
  },
  "language_info": {
   "codemirror_mode": "r",
   "file_extension": ".r",
   "mimetype": "text/x-r-source",
   "name": "R",
   "pygments_lexer": "r",
   "version": "3.4.4"
  }
 },
 "nbformat": 4,
 "nbformat_minor": 2
}
